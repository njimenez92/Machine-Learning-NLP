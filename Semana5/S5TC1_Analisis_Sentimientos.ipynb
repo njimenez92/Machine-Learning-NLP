{
 "cells": [
  {
   "cell_type": "markdown",
   "metadata": {},
   "source": [
    "![image info](https://raw.githubusercontent.com/albahnsen/MIAD_ML_and_NLP/main/images/banner_1.png)"
   ]
  },
  {
   "cell_type": "markdown",
   "metadata": {},
   "source": [
    "# Taller: Análisis de sentimientos y técnicas de NLP\n",
    "\n",
    "En este taller podrán poner en práctica sus conocimientos sobre las diferentes técnicas para el procesamiento de lenguaje natural. El taller está constituido por 5 puntos, en los cuales deberan seguir las intrucciones de cada numeral para su desarrollo."
   ]
  },
  {
   "cell_type": "markdown",
   "metadata": {},
   "source": [
    "## Datos predicción sentimientos de viajeros en Twitter\n",
    "\n",
    "En este taller se usará el conjunto de datos de sentimientos sobre distintas aerolíneas de EE.UU. provenientes de Twitter. Cada observación contiene si el sentimiento de los tweets es positivo, neutral o negativo teniendo en cuenta distintas variables como aerolínea y las razones de los sentimientos negativos (como \"retraso en el vuelo\" o \"servicio grosero\"). El objetivo es predecir el sentimiento asociado a cada tweet. Para más detalles pueden visitar el siguiente enlace: [datos](https://www.kaggle.com/crowdflower/twitter-airline-sentiment)."
   ]
  },
  {
   "cell_type": "code",
   "execution_count": 1,
   "metadata": {},
   "outputs": [],
   "source": [
    "import warnings\n",
    "warnings.filterwarnings('ignore')"
   ]
  },
  {
   "cell_type": "code",
   "execution_count": 2,
   "metadata": {},
   "outputs": [],
   "source": [
    "# Importación de librerías\n",
    "import pandas as pd\n",
    "import numpy as np\n",
    "import seaborn as sns\n",
    "%matplotlib inline\n",
    "import matplotlib.pyplot as plt\n",
    "from wordcloud import WordCloud, STOPWORDS"
   ]
  },
  {
   "cell_type": "code",
   "execution_count": 3,
   "metadata": {},
   "outputs": [
    {
     "data": {
      "text/html": [
       "<div>\n",
       "<style scoped>\n",
       "    .dataframe tbody tr th:only-of-type {\n",
       "        vertical-align: middle;\n",
       "    }\n",
       "\n",
       "    .dataframe tbody tr th {\n",
       "        vertical-align: top;\n",
       "    }\n",
       "\n",
       "    .dataframe thead th {\n",
       "        text-align: right;\n",
       "    }\n",
       "</style>\n",
       "<table border=\"1\" class=\"dataframe\">\n",
       "  <thead>\n",
       "    <tr style=\"text-align: right;\">\n",
       "      <th></th>\n",
       "      <th>airline_sentiment</th>\n",
       "      <th>airline_sentiment_confidence</th>\n",
       "      <th>negativereason</th>\n",
       "      <th>negativereason_confidence</th>\n",
       "      <th>airline</th>\n",
       "      <th>airline_sentiment_gold</th>\n",
       "      <th>name</th>\n",
       "      <th>negativereason_gold</th>\n",
       "      <th>retweet_count</th>\n",
       "      <th>text</th>\n",
       "      <th>tweet_coord</th>\n",
       "      <th>tweet_created</th>\n",
       "      <th>tweet_location</th>\n",
       "      <th>user_timezone</th>\n",
       "    </tr>\n",
       "    <tr>\n",
       "      <th>tweet_id</th>\n",
       "      <th></th>\n",
       "      <th></th>\n",
       "      <th></th>\n",
       "      <th></th>\n",
       "      <th></th>\n",
       "      <th></th>\n",
       "      <th></th>\n",
       "      <th></th>\n",
       "      <th></th>\n",
       "      <th></th>\n",
       "      <th></th>\n",
       "      <th></th>\n",
       "      <th></th>\n",
       "      <th></th>\n",
       "    </tr>\n",
       "  </thead>\n",
       "  <tbody>\n",
       "    <tr>\n",
       "      <th>570306133677760513</th>\n",
       "      <td>neutral</td>\n",
       "      <td>1.0000</td>\n",
       "      <td>NaN</td>\n",
       "      <td>NaN</td>\n",
       "      <td>Virgin America</td>\n",
       "      <td>NaN</td>\n",
       "      <td>cairdin</td>\n",
       "      <td>NaN</td>\n",
       "      <td>0</td>\n",
       "      <td>@VirginAmerica What @dhepburn said.</td>\n",
       "      <td>NaN</td>\n",
       "      <td>2015-02-24 11:35:52 -0800</td>\n",
       "      <td>NaN</td>\n",
       "      <td>Eastern Time (US &amp; Canada)</td>\n",
       "    </tr>\n",
       "    <tr>\n",
       "      <th>570301130888122368</th>\n",
       "      <td>positive</td>\n",
       "      <td>0.3486</td>\n",
       "      <td>NaN</td>\n",
       "      <td>0.0000</td>\n",
       "      <td>Virgin America</td>\n",
       "      <td>NaN</td>\n",
       "      <td>jnardino</td>\n",
       "      <td>NaN</td>\n",
       "      <td>0</td>\n",
       "      <td>@VirginAmerica plus you've added commercials t...</td>\n",
       "      <td>NaN</td>\n",
       "      <td>2015-02-24 11:15:59 -0800</td>\n",
       "      <td>NaN</td>\n",
       "      <td>Pacific Time (US &amp; Canada)</td>\n",
       "    </tr>\n",
       "    <tr>\n",
       "      <th>570301083672813571</th>\n",
       "      <td>neutral</td>\n",
       "      <td>0.6837</td>\n",
       "      <td>NaN</td>\n",
       "      <td>NaN</td>\n",
       "      <td>Virgin America</td>\n",
       "      <td>NaN</td>\n",
       "      <td>yvonnalynn</td>\n",
       "      <td>NaN</td>\n",
       "      <td>0</td>\n",
       "      <td>@VirginAmerica I didn't today... Must mean I n...</td>\n",
       "      <td>NaN</td>\n",
       "      <td>2015-02-24 11:15:48 -0800</td>\n",
       "      <td>Lets Play</td>\n",
       "      <td>Central Time (US &amp; Canada)</td>\n",
       "    </tr>\n",
       "    <tr>\n",
       "      <th>570301031407624196</th>\n",
       "      <td>negative</td>\n",
       "      <td>1.0000</td>\n",
       "      <td>Bad Flight</td>\n",
       "      <td>0.7033</td>\n",
       "      <td>Virgin America</td>\n",
       "      <td>NaN</td>\n",
       "      <td>jnardino</td>\n",
       "      <td>NaN</td>\n",
       "      <td>0</td>\n",
       "      <td>@VirginAmerica it's really aggressive to blast...</td>\n",
       "      <td>NaN</td>\n",
       "      <td>2015-02-24 11:15:36 -0800</td>\n",
       "      <td>NaN</td>\n",
       "      <td>Pacific Time (US &amp; Canada)</td>\n",
       "    </tr>\n",
       "    <tr>\n",
       "      <th>570300817074462722</th>\n",
       "      <td>negative</td>\n",
       "      <td>1.0000</td>\n",
       "      <td>Can't Tell</td>\n",
       "      <td>1.0000</td>\n",
       "      <td>Virgin America</td>\n",
       "      <td>NaN</td>\n",
       "      <td>jnardino</td>\n",
       "      <td>NaN</td>\n",
       "      <td>0</td>\n",
       "      <td>@VirginAmerica and it's a really big bad thing...</td>\n",
       "      <td>NaN</td>\n",
       "      <td>2015-02-24 11:14:45 -0800</td>\n",
       "      <td>NaN</td>\n",
       "      <td>Pacific Time (US &amp; Canada)</td>\n",
       "    </tr>\n",
       "  </tbody>\n",
       "</table>\n",
       "</div>"
      ],
      "text/plain": [
       "                   airline_sentiment  airline_sentiment_confidence  \\\n",
       "tweet_id                                                             \n",
       "570306133677760513           neutral                        1.0000   \n",
       "570301130888122368          positive                        0.3486   \n",
       "570301083672813571           neutral                        0.6837   \n",
       "570301031407624196          negative                        1.0000   \n",
       "570300817074462722          negative                        1.0000   \n",
       "\n",
       "                   negativereason  negativereason_confidence         airline  \\\n",
       "tweet_id                                                                       \n",
       "570306133677760513            NaN                        NaN  Virgin America   \n",
       "570301130888122368            NaN                     0.0000  Virgin America   \n",
       "570301083672813571            NaN                        NaN  Virgin America   \n",
       "570301031407624196     Bad Flight                     0.7033  Virgin America   \n",
       "570300817074462722     Can't Tell                     1.0000  Virgin America   \n",
       "\n",
       "                   airline_sentiment_gold        name negativereason_gold  \\\n",
       "tweet_id                                                                    \n",
       "570306133677760513                    NaN     cairdin                 NaN   \n",
       "570301130888122368                    NaN    jnardino                 NaN   \n",
       "570301083672813571                    NaN  yvonnalynn                 NaN   \n",
       "570301031407624196                    NaN    jnardino                 NaN   \n",
       "570300817074462722                    NaN    jnardino                 NaN   \n",
       "\n",
       "                    retweet_count  \\\n",
       "tweet_id                            \n",
       "570306133677760513              0   \n",
       "570301130888122368              0   \n",
       "570301083672813571              0   \n",
       "570301031407624196              0   \n",
       "570300817074462722              0   \n",
       "\n",
       "                                                                 text  \\\n",
       "tweet_id                                                                \n",
       "570306133677760513                @VirginAmerica What @dhepburn said.   \n",
       "570301130888122368  @VirginAmerica plus you've added commercials t...   \n",
       "570301083672813571  @VirginAmerica I didn't today... Must mean I n...   \n",
       "570301031407624196  @VirginAmerica it's really aggressive to blast...   \n",
       "570300817074462722  @VirginAmerica and it's a really big bad thing...   \n",
       "\n",
       "                   tweet_coord              tweet_created tweet_location  \\\n",
       "tweet_id                                                                   \n",
       "570306133677760513         NaN  2015-02-24 11:35:52 -0800            NaN   \n",
       "570301130888122368         NaN  2015-02-24 11:15:59 -0800            NaN   \n",
       "570301083672813571         NaN  2015-02-24 11:15:48 -0800      Lets Play   \n",
       "570301031407624196         NaN  2015-02-24 11:15:36 -0800            NaN   \n",
       "570300817074462722         NaN  2015-02-24 11:14:45 -0800            NaN   \n",
       "\n",
       "                                 user_timezone  \n",
       "tweet_id                                        \n",
       "570306133677760513  Eastern Time (US & Canada)  \n",
       "570301130888122368  Pacific Time (US & Canada)  \n",
       "570301083672813571  Central Time (US & Canada)  \n",
       "570301031407624196  Pacific Time (US & Canada)  \n",
       "570300817074462722  Pacific Time (US & Canada)  "
      ]
     },
     "execution_count": 3,
     "metadata": {},
     "output_type": "execute_result"
    }
   ],
   "source": [
    "# Lectura de la información de archivo .zip\n",
    "tweets = pd.read_csv('https://raw.githubusercontent.com/albahnsen/MIAD_ML_and_NLP/main/datasets/Tweets.zip', index_col=0)\n",
    "\n",
    "# Visualización dataset\n",
    "tweets.head()"
   ]
  },
  {
   "cell_type": "code",
   "execution_count": 4,
   "metadata": {},
   "outputs": [
    {
     "data": {
      "text/plain": [
       "(14640, 14)"
      ]
     },
     "execution_count": 4,
     "metadata": {},
     "output_type": "execute_result"
    }
   ],
   "source": [
    "# Impresión tamaño del cojunto de datos\n",
    "tweets.shape"
   ]
  },
  {
   "cell_type": "markdown",
   "metadata": {},
   "source": [
    "### Análisis descriptivo"
   ]
  },
  {
   "cell_type": "code",
   "execution_count": 5,
   "metadata": {},
   "outputs": [
    {
     "data": {
      "image/png": "[encoded data removed]",
      "text/plain": [
       "<Figure size 720x576 with 1 Axes>"
      ]
     },
     "metadata": {
      "needs_background": "light"
     },
     "output_type": "display_data"
    }
   ],
   "source": [
    "tweets['word_count'] = tweets['text'].apply(lambda x: len(str(x).split()))\n",
    "ax = tweets.plot.hist(column=[\"word_count\"], figsize=(10, 8))"
   ]
  },
  {
   "cell_type": "code",
   "execution_count": 6,
   "metadata": {},
   "outputs": [
    {
     "data": {
      "image/png": "[encoded data removed]",
      "text/plain": [
       "<Figure size 432x288 with 1 Axes>"
      ]
     },
     "metadata": {
      "needs_background": "light"
     },
     "output_type": "display_data"
    }
   ],
   "source": [
    "ax = sns.countplot(x=\"airline_sentiment\", data=tweets)"
   ]
  },
  {
   "cell_type": "code",
   "execution_count": 7,
   "metadata": {},
   "outputs": [
    {
     "data": {
      "text/plain": [
       "negative    9178\n",
       "neutral     3099\n",
       "positive    2363\n",
       "Name: airline_sentiment, dtype: int64"
      ]
     },
     "execution_count": 7,
     "metadata": {},
     "output_type": "execute_result"
    }
   ],
   "source": [
    "# Cuenta de tweets por cada sentimiento\n",
    "tweets['airline_sentiment'].value_counts()"
   ]
  },
  {
   "cell_type": "code",
   "execution_count": 8,
   "metadata": {},
   "outputs": [
    {
     "data": {
      "text/plain": [
       "United            3822\n",
       "US Airways        2913\n",
       "American          2759\n",
       "Southwest         2420\n",
       "Delta             2222\n",
       "Virgin America     504\n",
       "Name: airline, dtype: int64"
      ]
     },
     "execution_count": 8,
     "metadata": {},
     "output_type": "execute_result"
    }
   ],
   "source": [
    "# Cuenta de tweets por cada aerolínea\n",
    "tweets['airline'].value_counts()"
   ]
  },
  {
   "cell_type": "code",
   "execution_count": 9,
   "metadata": {},
   "outputs": [
    {
     "data": {
      "text/plain": [
       "<AxesSubplot:title={'center':'Sentiminetos por aerolínea'}, xlabel='airline'>"
      ]
     },
     "execution_count": 9,
     "metadata": {},
     "output_type": "execute_result"
    },
    {
     "data": {
      "image/png": "[encoded data removed]",
      "text/plain": [
       "<Figure size 720x432 with 1 Axes>"
      ]
     },
     "metadata": {
      "needs_background": "light"
     },
     "output_type": "display_data"
    }
   ],
   "source": [
    "# Plot con cuenta de tweets por cada aerolínea y sentimiento\n",
    "pd.crosstab(index = tweets[\"airline\"],columns = tweets[\"airline_sentiment\"]).plot(kind='bar',figsize=(10, 6),alpha=0.5,rot=0,stacked=True,title=\"Sentiminetos por aerolínea\")"
   ]
  },
  {
   "cell_type": "markdown",
   "metadata": {},
   "source": [
    "### Liberias y Variables de interés y predicción"
   ]
  },
  {
   "cell_type": "code",
   "execution_count": 10,
   "metadata": {},
   "outputs": [
    {
     "name": "stderr",
     "output_type": "stream",
     "text": [
      "[nltk_data] Downloading package wordnet to /Users/natalia/nltk_data...\n",
      "[nltk_data]   Package wordnet is already up-to-date!\n"
     ]
    }
   ],
   "source": [
    "import re\n",
    "import string\n",
    "import spacy\n",
    "nlp = spacy.load('en_core_web_lg')\n",
    "from gensim.corpora.textcorpus import strip_multiple_whitespaces\n",
    "from sklearn.model_selection import train_test_split, cross_val_score\n",
    "from sklearn.feature_extraction.text import CountVectorizer\n",
    "from sklearn.ensemble import RandomForestClassifier\n",
    "#from nltk.stem.snowball import SnowballStemmer\n",
    "from nltk.stem import WordNetLemmatizer\n",
    "from sklearn.metrics import classification_report, accuracy_score\n",
    "\n",
    "\n",
    "\n",
    "# For word lemmitization\n",
    "import nltk\n",
    "nltk.download('wordnet')\n",
    "from nltk.stem import WordNetLemmatizer\n",
    "\n",
    "# for word Stemming\n",
    "from nltk.stem.porter import PorterStemmer"
   ]
  },
  {
   "cell_type": "markdown",
   "metadata": {},
   "source": [
    "### Tratamiento de datos desbalanceados"
   ]
  },
  {
   "cell_type": "code",
   "execution_count": 11,
   "metadata": {},
   "outputs": [],
   "source": [
    "from imblearn.under_sampling import RandomUnderSampler\n",
    "balanced = RandomUnderSampler(random_state=42)"
   ]
  },
  {
   "cell_type": "markdown",
   "metadata": {},
   "source": [
    "### Punto 1 - Uso de CountVectorizer\n",
    "\n",
    "En la celda 1 creen un modelo de random forest con la libreria sklearn que prediga el sentimiento de los tweets usando los set de entrenamiento y test definidos anteriormente. Usen la función **CountVectorizer** y presenten el desempeño del modelo con la métrica del acurracy.\n",
    "\n",
    "Recuerden que el preprocesamiento que se haga sobre los datos de entrenamiento  (*.fit_transform()*) deben ser aplicado al set de test (*.transform()*)."
   ]
  },
  {
   "cell_type": "code",
   "execution_count": 12,
   "metadata": {},
   "outputs": [],
   "source": [
    "def preprocess_tweet_punto1(tweet):\n",
    "    \"\"\"\n",
    "    Function to process the the tweet text and tranform it into format usable by Machine learning models\n",
    "    \"\"\"\n",
    "    # remove line breaks\n",
    "    tweet = tweet.replace('\\n', ' ')\n",
    "    # to convert all the characters of the tweet into lower case alphabets\n",
    "    tweet = tweet.lower()\n",
    "    #remove numbers\n",
    "    tweet = re.sub(r'[0-9]+', '', tweet) #remove numbers\n",
    "    # Remove urls from the tweets\n",
    "    tweet = re.sub(r\"http\\S+|www\\S+|https\\S+\", '', tweet, flags=re.MULTILINE)\n",
    "    #remove emails\n",
    "    tweet = re.sub('\\S*@\\S*\\s?', '', tweet)\n",
    "    # Remove user related references from the tweets:: '@' and '#' \n",
    "    tweet = re.sub(r'\\@\\w+|\\#','', tweet)\n",
    "    # Remove punctuations from the tweets\n",
    "    tweet = tweet.translate(str.maketrans('', '', string.punctuation))\n",
    "    return tweet\n"
   ]
  },
  {
   "cell_type": "code",
   "execution_count": 13,
   "metadata": {},
   "outputs": [
    {
     "data": {
      "text/html": [
       "<div>\n",
       "<style scoped>\n",
       "    .dataframe tbody tr th:only-of-type {\n",
       "        vertical-align: middle;\n",
       "    }\n",
       "\n",
       "    .dataframe tbody tr th {\n",
       "        vertical-align: top;\n",
       "    }\n",
       "\n",
       "    .dataframe thead th {\n",
       "        text-align: right;\n",
       "    }\n",
       "</style>\n",
       "<table border=\"1\" class=\"dataframe\">\n",
       "  <thead>\n",
       "    <tr style=\"text-align: right;\">\n",
       "      <th></th>\n",
       "      <th>text</th>\n",
       "    </tr>\n",
       "    <tr>\n",
       "      <th>tweet_id</th>\n",
       "      <th></th>\n",
       "    </tr>\n",
       "  </thead>\n",
       "  <tbody>\n",
       "    <tr>\n",
       "      <th>570306133677760513</th>\n",
       "      <td>what said</td>\n",
       "    </tr>\n",
       "    <tr>\n",
       "      <th>570301130888122368</th>\n",
       "      <td>plus youve added commercials to the experience...</td>\n",
       "    </tr>\n",
       "    <tr>\n",
       "      <th>570301083672813571</th>\n",
       "      <td>i didnt today must mean i need to take another...</td>\n",
       "    </tr>\n",
       "    <tr>\n",
       "      <th>570301031407624196</th>\n",
       "      <td>its really aggressive to blast obnoxious enter...</td>\n",
       "    </tr>\n",
       "    <tr>\n",
       "      <th>570300817074462722</th>\n",
       "      <td>and its a really big bad thing about it</td>\n",
       "    </tr>\n",
       "  </tbody>\n",
       "</table>\n",
       "</div>"
      ],
      "text/plain": [
       "                                                                 text\n",
       "tweet_id                                                             \n",
       "570306133677760513                                          what said\n",
       "570301130888122368  plus youve added commercials to the experience...\n",
       "570301083672813571  i didnt today must mean i need to take another...\n",
       "570301031407624196  its really aggressive to blast obnoxious enter...\n",
       "570300817074462722            and its a really big bad thing about it"
      ]
     },
     "execution_count": 13,
     "metadata": {},
     "output_type": "execute_result"
    }
   ],
   "source": [
    "# Preprocessing data before feeding it to ML models\n",
    "processed_punto1 = tweets['text'].apply(preprocess_tweet_punto1)\n",
    "pd.DataFrame(processed_punto1).head()"
   ]
  },
  {
   "cell_type": "code",
   "execution_count": 14,
   "metadata": {},
   "outputs": [],
   "source": [
    "# Separación de variables predictoras (X) y de variable de interés (y)\n",
    "X_punto1 = processed_punto1.values\n",
    "y_punto1 = tweets['airline_sentiment'].map({'negative':-1,'neutral':0,'positive':1}).values\n"
   ]
  },
  {
   "cell_type": "code",
   "execution_count": 15,
   "metadata": {},
   "outputs": [],
   "source": [
    "# RandomUnderSampler is a fast and easy way to balance the data by randomly \n",
    "X_punto1= X_punto1.reshape(-1, 1)\n",
    "y_punto1= y_punto1.reshape(-1, 1)\n",
    "\n",
    "x1_resampled, y1_resampled = balanced.fit_resample(X_punto1, y_punto1)"
   ]
  },
  {
   "cell_type": "code",
   "execution_count": 16,
   "metadata": {},
   "outputs": [],
   "source": [
    "# Separación de datos en set de entrenamiento y test\n",
    "xtrain1, xtest1, ytrain1, ytest1 = train_test_split(x1_resampled, y1_resampled, test_size=0.2, random_state=42)"
   ]
  },
  {
   "cell_type": "code",
   "execution_count": 17,
   "metadata": {},
   "outputs": [
    {
     "name": "stdout",
     "output_type": "stream",
     "text": [
      "Features Train: 5671\n",
      "Features Test:  1418\n"
     ]
    }
   ],
   "source": [
    "#Tokenization \n",
    "tokenizer = CountVectorizer()\n",
    "\n",
    "xtrain1_toke = tokenizer.fit_transform(xtrain1.ravel())\n",
    "print('Features Train:', xtrain1_toke.shape[0])\n",
    "\n",
    "xtest1_toke = tokenizer.transform(xtest1.ravel())\n",
    "print('Features Test: ', xtest1_toke.shape[0])"
   ]
  },
  {
   "cell_type": "code",
   "execution_count": 18,
   "metadata": {},
   "outputs": [
    {
     "name": "stdout",
     "output_type": "stream",
     "text": [
      "count    10.000000\n",
      "mean      0.720329\n",
      "std       0.018460\n",
      "min       0.687831\n",
      "25%       0.709436\n",
      "50%       0.721340\n",
      "75%       0.731922\n",
      "max       0.753086\n",
      "dtype: float64\n"
     ]
    }
   ],
   "source": [
    "ModelPunto1 = RandomForestClassifier(n_estimators=100)\n",
    "ModelPunto1.fit(xtrain1_toke, ytrain1)\n",
    "print(pd.Series(cross_val_score(ModelPunto1, xtrain1_toke, ytrain1, cv=10)).describe())"
   ]
  },
  {
   "cell_type": "code",
   "execution_count": 19,
   "metadata": {},
   "outputs": [
    {
     "name": "stdout",
     "output_type": "stream",
     "text": [
      "Accuracy Score for RandomForestClassifier is ::  0.6960507757404796\n",
      "Classification_Report :: \n",
      "\n",
      "               precision    recall  f1-score   support\n",
      "\n",
      "    negative       0.75      0.72      0.73       487\n",
      "     neutral       0.61      0.67      0.64       476\n",
      "    positive       0.74      0.70      0.72       455\n",
      "\n",
      "    accuracy                           0.70      1418\n",
      "   macro avg       0.70      0.70      0.70      1418\n",
      "weighted avg       0.70      0.70      0.70      1418\n",
      "\n"
     ]
    }
   ],
   "source": [
    "# Predicting the values and the Accuracy Score\n",
    "predict_model1 = ModelPunto1.predict(xtest1_toke)\n",
    "print(\"Accuracy Score for RandomForestClassifier is :: \", accuracy_score(ytest1, predict_model1))\n",
    "\n",
    "# Classification Report :\n",
    "target = ['negative','neutral','positive']\n",
    "print(\"Classification_Report :: \\n\\n\", classification_report(ytest1, predict_model1, target_names=target))"
   ]
  },
  {
   "cell_type": "markdown",
   "metadata": {},
   "source": [
    "### Punto 2 - Eliminación de Stopwords\n",
    "\n",
    "En la celda 2 creen un modelo de random forest con la libreria sklearn que prediga el sentimiento de los tweets usando los set de entrenamiento y test definidos anteriormente. Usen la función CountVectorizer, **eliminen stopwords** y presenten el desempeño del modelo con la métrica del acurracy.\n",
    "\n",
    "Recuerden que el preprocesamiento que se haga sobre los datos de entrenamiento  (*.fit_transform()*) deben ser aplicado al set de test (*.transform()*)."
   ]
  },
  {
   "cell_type": "code",
   "execution_count": 20,
   "metadata": {},
   "outputs": [],
   "source": [
    "def preprocess_tweet_punto2(tweet):\n",
    "    \"\"\"\n",
    "    Function to process the the tweet text and tranform it into format usable by Machine learning models\n",
    "    \"\"\"\n",
    "    # remove line breaks\n",
    "    tweet = tweet.replace('\\n', ' ')\n",
    "    # to convert all the characters of the tweet into lower case alphabets\n",
    "    tweet = tweet.lower()\n",
    "    #remove numbers\n",
    "    tweet = re.sub(r'[0-9]+', '', tweet) #remove numbers\n",
    "    # Remove urls from the tweets\n",
    "    tweet = re.sub(r\"http\\S+|www\\S+|https\\S+\", '', tweet, flags=re.MULTILINE)\n",
    "    #remove emails\n",
    "    tweet = re.sub('\\S*@\\S*\\s?', '', tweet)\n",
    "    # Remove user related references from the tweets:: '@' and '#' \n",
    "    tweet = re.sub(r'\\@\\w+|\\#','', tweet)\n",
    "    # Remove punctuations from the tweets\n",
    "    tweet = tweet.translate(str.maketrans('', '', string.punctuation))\n",
    "    # Remove stopwords from the tweets and Remove punctuations from the tweets\n",
    "    filtered_words = [t.orth_ for t in nlp(tweet) if not t.is_punct | t.is_stop]\n",
    "    joined_text = \" \".join(filtered_words)\n",
    "    return joined_text\n"
   ]
  },
  {
   "cell_type": "code",
   "execution_count": 21,
   "metadata": {},
   "outputs": [
    {
     "data": {
      "text/html": [
       "<div>\n",
       "<style scoped>\n",
       "    .dataframe tbody tr th:only-of-type {\n",
       "        vertical-align: middle;\n",
       "    }\n",
       "\n",
       "    .dataframe tbody tr th {\n",
       "        vertical-align: top;\n",
       "    }\n",
       "\n",
       "    .dataframe thead th {\n",
       "        text-align: right;\n",
       "    }\n",
       "</style>\n",
       "<table border=\"1\" class=\"dataframe\">\n",
       "  <thead>\n",
       "    <tr style=\"text-align: right;\">\n",
       "      <th></th>\n",
       "      <th>text</th>\n",
       "    </tr>\n",
       "    <tr>\n",
       "      <th>tweet_id</th>\n",
       "      <th></th>\n",
       "    </tr>\n",
       "  </thead>\n",
       "  <tbody>\n",
       "    <tr>\n",
       "      <th>570306133677760513</th>\n",
       "      <td>said</td>\n",
       "    </tr>\n",
       "    <tr>\n",
       "      <th>570301130888122368</th>\n",
       "      <td>plus ve added commercials experience tacky</td>\n",
       "    </tr>\n",
       "    <tr>\n",
       "      <th>570301083672813571</th>\n",
       "      <td>nt today mean need trip</td>\n",
       "    </tr>\n",
       "    <tr>\n",
       "      <th>570301031407624196</th>\n",
       "      <td>aggressive blast obnoxious entertainment guest...</td>\n",
       "    </tr>\n",
       "    <tr>\n",
       "      <th>570300817074462722</th>\n",
       "      <td>big bad thing</td>\n",
       "    </tr>\n",
       "  </tbody>\n",
       "</table>\n",
       "</div>"
      ],
      "text/plain": [
       "                                                                 text\n",
       "tweet_id                                                             \n",
       "570306133677760513                                               said\n",
       "570301130888122368         plus ve added commercials experience tacky\n",
       "570301083672813571                            nt today mean need trip\n",
       "570301031407624196  aggressive blast obnoxious entertainment guest...\n",
       "570300817074462722                                      big bad thing"
      ]
     },
     "execution_count": 21,
     "metadata": {},
     "output_type": "execute_result"
    }
   ],
   "source": [
    "# Preprocessing data before feeding it to ML models\n",
    "processed_punto2 = tweets['text'].apply(preprocess_tweet_punto2)\n",
    "pd.DataFrame(processed_punto2).head()"
   ]
  },
  {
   "cell_type": "code",
   "execution_count": 22,
   "metadata": {},
   "outputs": [],
   "source": [
    "# Separación de variables predictoras (X) y de variable de interés (y)\n",
    "X_punto2 = processed_punto2.values\n",
    "y_punto2 = tweets['airline_sentiment'].map({'negative':-1,'neutral':0,'positive':1}).values"
   ]
  },
  {
   "cell_type": "code",
   "execution_count": 23,
   "metadata": {},
   "outputs": [],
   "source": [
    "# RandomUnderSampler is a fast and easy way to balance the data by randomly \n",
    "X_punto2= X_punto2.reshape(-1, 1)\n",
    "y_punto2= y_punto2.reshape(-1, 1)\n",
    "\n",
    "x2_resampled, y2_resampled = balanced.fit_resample(X_punto2, y_punto2)"
   ]
  },
  {
   "cell_type": "code",
   "execution_count": 24,
   "metadata": {},
   "outputs": [],
   "source": [
    "# Separación de datos en set de entrenamiento y test\n",
    "xtrain2, xtest2, ytrain2, ytest2 = train_test_split(x2_resampled, y2_resampled, test_size=0.2, random_state=42)"
   ]
  },
  {
   "cell_type": "code",
   "execution_count": 25,
   "metadata": {},
   "outputs": [
    {
     "name": "stdout",
     "output_type": "stream",
     "text": [
      "Features Train:  5671\n",
      "Features Test:  1418\n"
     ]
    }
   ],
   "source": [
    "#Tokenization \n",
    "tokenizer2 = CountVectorizer(\n",
    "    ngram_range=(1, 1),\n",
    "    min_df=3, max_df=0.9\n",
    ")\n",
    "tokenizer2.stop_words_ = {}\n",
    "\n",
    "\n",
    "xtrain2_toke = tokenizer2.fit_transform(xtrain2.ravel())\n",
    "print('Features Train: ', xtrain2_toke.shape[0])\n",
    "\n",
    "xtest2_toke = tokenizer2.transform(xtest2.ravel())\n",
    "print('Features Test: ', xtest2_toke.shape[0])"
   ]
  },
  {
   "cell_type": "code",
   "execution_count": 26,
   "metadata": {},
   "outputs": [
    {
     "name": "stdout",
     "output_type": "stream",
     "text": [
      "count    10.000000\n",
      "mean      0.693356\n",
      "std       0.020141\n",
      "min       0.661376\n",
      "25%       0.687831\n",
      "50%       0.691358\n",
      "75%       0.697531\n",
      "max       0.737213\n",
      "dtype: float64\n"
     ]
    }
   ],
   "source": [
    "ModelPunto2 = RandomForestClassifier(n_estimators=100)\n",
    "ModelPunto2.fit(xtrain2_toke, ytrain2)\n",
    "print(pd.Series(cross_val_score(ModelPunto2, xtrain2_toke, ytrain2, cv=10)).describe())"
   ]
  },
  {
   "cell_type": "code",
   "execution_count": 27,
   "metadata": {},
   "outputs": [
    {
     "name": "stdout",
     "output_type": "stream",
     "text": [
      "Accuracy Score for RandomForestClassifier is ::  0.6741889985895627\n",
      "Classification_Report :: \n",
      "\n",
      "               precision    recall  f1-score   support\n",
      "\n",
      "    negative       0.72      0.66      0.69       487\n",
      "     neutral       0.60      0.63      0.62       476\n",
      "    positive       0.71      0.74      0.72       455\n",
      "\n",
      "    accuracy                           0.67      1418\n",
      "   macro avg       0.68      0.68      0.68      1418\n",
      "weighted avg       0.68      0.67      0.67      1418\n",
      "\n"
     ]
    }
   ],
   "source": [
    "# Predicting the values and the Accuracy Score\n",
    "predict_model2 = ModelPunto2.predict(xtest2_toke)\n",
    "print(\"Accuracy Score for RandomForestClassifier is :: \", accuracy_score(ytest2, predict_model2))\n",
    "\n",
    "# Classification Report :\n",
    "target = ['negative','neutral','positive']\n",
    "print(\"Classification_Report :: \\n\\n\", classification_report(ytest2, predict_model2, target_names=target))"
   ]
  },
  {
   "cell_type": "markdown",
   "metadata": {},
   "source": [
    "### Punto 3 - Lematización con verbos\n",
    "\n",
    "En la celda 3 creen un modelo de random forest con la libreria sklearn que prediga el sentimiento de los tweets usando los set de entrenamiento y test definidos anteriormente. Usen la función CountVectorizer, **lematizen el texto con verbos** y presenten el desempeño del modelo con la métrica del acurracy.\n",
    "\n",
    "Recuerden que el preprocesamiento que se haga sobre los datos de entrenamiento  (*.fit_transform()*) deben ser aplicado al set de test (*.transform()*)."
   ]
  },
  {
   "cell_type": "code",
   "execution_count": 69,
   "metadata": {},
   "outputs": [],
   "source": [
    "def preprocess_tweet_punto3(tweet):\n",
    "    \"\"\"\n",
    "    Function to process the the tweet text and tranform it into format usable by Machine learning models\n",
    "    \"\"\"\n",
    "    # remove line breaks\n",
    "    tweet = tweet.replace('\\n', ' ')\n",
    "    # to convert all the characters of the tweet into lower case alphabets\n",
    "    tweet = tweet.lower()\n",
    "    #remove numbers\n",
    "    tweet = re.sub(r'[0-9]+', '', tweet) #remove numbers\n",
    "    # Remove urls from the tweets\n",
    "    tweet = re.sub(r\"http\\S+|www\\S+|https\\S+\", '', tweet, flags=re.MULTILINE)\n",
    "    #remove emails\n",
    "    tweet = re.sub('\\S*@\\S*\\s?', '', tweet)\n",
    "    # Remove user related references from the tweets:: '@' and '#' \n",
    "    tweet = re.sub(r'\\@\\w+|\\#','', tweet)\n",
    "    # Remove punctuations from the tweets\n",
    "    tweet = tweet.translate(str.maketrans('', '', string.punctuation))\n",
    "\n",
    "    # Lemmatizerr\n",
    "    lemmatizer = WordNetLemmatizer()\n",
    "    lemma_words = [lemmatizer.lemmatize(w, pos='v') for w in tweet.split()]\n",
    "\n",
    "    joined_text = \" \".join(lemma_words)\n",
    "    return joined_text\n",
    "\n",
    "    return tweet\n",
    "\n",
    "\n"
   ]
  },
  {
   "cell_type": "code",
   "execution_count": 70,
   "metadata": {},
   "outputs": [
    {
     "data": {
      "text/html": [
       "<div>\n",
       "<style scoped>\n",
       "    .dataframe tbody tr th:only-of-type {\n",
       "        vertical-align: middle;\n",
       "    }\n",
       "\n",
       "    .dataframe tbody tr th {\n",
       "        vertical-align: top;\n",
       "    }\n",
       "\n",
       "    .dataframe thead th {\n",
       "        text-align: right;\n",
       "    }\n",
       "</style>\n",
       "<table border=\"1\" class=\"dataframe\">\n",
       "  <thead>\n",
       "    <tr style=\"text-align: right;\">\n",
       "      <th></th>\n",
       "      <th>text</th>\n",
       "    </tr>\n",
       "    <tr>\n",
       "      <th>tweet_id</th>\n",
       "      <th></th>\n",
       "    </tr>\n",
       "  </thead>\n",
       "  <tbody>\n",
       "    <tr>\n",
       "      <th>570306133677760513</th>\n",
       "      <td>what say</td>\n",
       "    </tr>\n",
       "    <tr>\n",
       "      <th>570301130888122368</th>\n",
       "      <td>plus youve add commercials to the experience t...</td>\n",
       "    </tr>\n",
       "    <tr>\n",
       "      <th>570301083672813571</th>\n",
       "      <td>i didnt today must mean i need to take another...</td>\n",
       "    </tr>\n",
       "    <tr>\n",
       "      <th>570301031407624196</th>\n",
       "      <td>its really aggressive to blast obnoxious enter...</td>\n",
       "    </tr>\n",
       "    <tr>\n",
       "      <th>570300817074462722</th>\n",
       "      <td>and its a really big bad thing about it</td>\n",
       "    </tr>\n",
       "  </tbody>\n",
       "</table>\n",
       "</div>"
      ],
      "text/plain": [
       "                                                                 text\n",
       "tweet_id                                                             \n",
       "570306133677760513                                           what say\n",
       "570301130888122368  plus youve add commercials to the experience t...\n",
       "570301083672813571  i didnt today must mean i need to take another...\n",
       "570301031407624196  its really aggressive to blast obnoxious enter...\n",
       "570300817074462722            and its a really big bad thing about it"
      ]
     },
     "execution_count": 70,
     "metadata": {},
     "output_type": "execute_result"
    }
   ],
   "source": [
    "# Preprocessing data before feeding it to ML models\n",
    "processed_punto3 = tweets['text'].apply(preprocess_tweet_punto3)\n",
    "pd.DataFrame(processed_punto3).head()"
   ]
  },
  {
   "cell_type": "code",
   "execution_count": 71,
   "metadata": {},
   "outputs": [],
   "source": [
    "# Separación de variables predictoras (X) y de variable de interés (y)\n",
    "X_punto3 = processed_punto3.values\n",
    "y_punto3 = tweets['airline_sentiment'].map({'negative':-1,'neutral':0,'positive':1}).values"
   ]
  },
  {
   "cell_type": "code",
   "execution_count": 72,
   "metadata": {},
   "outputs": [],
   "source": [
    "# RandomUnderSampler is a fast and easy way to balance the data by randomly \n",
    "X_punto3= X_punto3.reshape(-1, 1)\n",
    "y_punto3= y_punto3.reshape(-1, 1)\n",
    "\n",
    "x3_resampled, y3_resampled = balanced.fit_resample(X_punto3, y_punto3)"
   ]
  },
  {
   "cell_type": "code",
   "execution_count": 73,
   "metadata": {},
   "outputs": [],
   "source": [
    "# Separación de datos en set de entrenamiento y test\n",
    "xtrain3, xtest3, ytrain3, ytest3 = train_test_split(x3_resampled, y3_resampled, test_size=0.2, random_state=42)"
   ]
  },
  {
   "cell_type": "code",
   "execution_count": 74,
   "metadata": {},
   "outputs": [
    {
     "name": "stdout",
     "output_type": "stream",
     "text": [
      "Features Train:  5671\n",
      "Features Test:  1418\n"
     ]
    }
   ],
   "source": [
    "vect_lemas = CountVectorizer()\n",
    "\n",
    "xtrain3_toke = vect_lemas.fit_transform(xtrain3.ravel())\n",
    "print('Features Train: ', xtrain2_toke.shape[0])\n",
    "\n",
    "xtest3_toke = vect_lemas.transform(xtest3.ravel())\n",
    "print('Features Test: ', xtest2_toke.shape[0])"
   ]
  },
  {
   "cell_type": "code",
   "execution_count": 75,
   "metadata": {},
   "outputs": [
    {
     "name": "stdout",
     "output_type": "stream",
     "text": [
      "count    10.000000\n",
      "mean      0.717687\n",
      "std       0.024338\n",
      "min       0.687831\n",
      "25%       0.701058\n",
      "50%       0.714537\n",
      "75%       0.729277\n",
      "max       0.772487\n",
      "dtype: float64\n"
     ]
    }
   ],
   "source": [
    "ModelPunto3 = RandomForestClassifier(n_estimators=100)\n",
    "ModelPunto3.fit(xtrain3_toke, ytrain3)\n",
    "print(pd.Series(cross_val_score(ModelPunto3, xtrain3_toke, ytrain3, cv=10)).describe())"
   ]
  },
  {
   "cell_type": "code",
   "execution_count": 77,
   "metadata": {},
   "outputs": [
    {
     "name": "stdout",
     "output_type": "stream",
     "text": [
      "Accuracy Score for RandomForestClassifier is ::  0.6995768688293371\n",
      "Classification_Report : \n",
      "\n",
      "               precision    recall  f1-score   support\n",
      "\n",
      "    negative       0.73      0.75      0.74       487\n",
      "     neutral       0.62      0.64      0.63       476\n",
      "    positive       0.75      0.71      0.73       455\n",
      "\n",
      "    accuracy                           0.70      1418\n",
      "   macro avg       0.70      0.70      0.70      1418\n",
      "weighted avg       0.70      0.70      0.70      1418\n",
      "\n"
     ]
    }
   ],
   "source": [
    "# Predicting the values and the Accuracy Score\n",
    "predict_model3 = ModelPunto3.predict(xtest3_toke)\n",
    "print(\"Accuracy Score for RandomForestClassifier is :: \", accuracy_score(ytest3, predict_model3))\n",
    "\n",
    "# Classification Report :\n",
    "target = ['negative','neutral','positive']\n",
    "print(\"Classification_Report : \\n\\n\", classification_report(ytest3, predict_model3, target_names=target))"
   ]
  },
  {
   "cell_type": "markdown",
   "metadata": {},
   "source": [
    "### Punto 4 - Multiples técnicas\n",
    "\n",
    "En la celda 4 creen un modelo de random forest con la libreria sklearn que prediga el sentimiento de los tweets usando los set de entrenamiento y test definidos anteriormente. Usen la función **CountVectorizer, eliminen stopwords, lematizen el texto con verbos** y presenten el desempeño del modelo con la métrica del acurracy.\n",
    "\n",
    "Recuerden que el preprocesamiento que se haga sobre los datos de entrenamiento  (*.fit_transform()*) deben ser aplicado al set de test (*.transform()*)."
   ]
  },
  {
   "cell_type": "code",
   "execution_count": 36,
   "metadata": {},
   "outputs": [],
   "source": [
    "def preprocess_tweet_punto4(tweet):\n",
    "    \"\"\"\n",
    "    Function to process the the tweet text and tranform it into format usable by Machine learning models\n",
    "    \"\"\"\n",
    "    # remove line breaks\n",
    "    tweet = tweet.replace('\\n', ' ')\n",
    "    # to convert all the characters of the tweet into lower case alphabets\n",
    "    tweet = tweet.lower()\n",
    "    #remove numbers\n",
    "    tweet = re.sub(r'[0-9]+', '', tweet) #remove numbers\n",
    "    # Remove urls from the tweets\n",
    "    tweet = re.sub(r\"http\\S+|www\\S+|https\\S+\", '', tweet, flags=re.MULTILINE)\n",
    "    #remove emails\n",
    "    tweet = re.sub('\\S*@\\S*\\s?', '', tweet)\n",
    "    # Remove user related references from the tweets:: '@' and '#' \n",
    "    tweet = re.sub(r'\\@\\w+|\\#','', tweet)\n",
    "    # Remove punctuations from the tweets\n",
    "    tweet = tweet.translate(str.maketrans('', '', string.punctuation))\n",
    "\n",
    "    # Remove stopwords from the tweets and Remove punctuations from the tweets\n",
    "    filtered_words = [t.orth_ for t in nlp(tweet) if not t.is_punct | t.is_stop]\n",
    "\n",
    "    # Lemmatizerr\n",
    "    lemmatizer = WordNetLemmatizer()\n",
    "    lemma_words = [lemmatizer.lemmatize(w, pos='v') for w in filtered_words]\n",
    "    joined_text = \" \".join(lemma_words)\n",
    "    return joined_text\n"
   ]
  },
  {
   "cell_type": "code",
   "execution_count": 37,
   "metadata": {},
   "outputs": [
    {
     "data": {
      "text/html": [
       "<div>\n",
       "<style scoped>\n",
       "    .dataframe tbody tr th:only-of-type {\n",
       "        vertical-align: middle;\n",
       "    }\n",
       "\n",
       "    .dataframe tbody tr th {\n",
       "        vertical-align: top;\n",
       "    }\n",
       "\n",
       "    .dataframe thead th {\n",
       "        text-align: right;\n",
       "    }\n",
       "</style>\n",
       "<table border=\"1\" class=\"dataframe\">\n",
       "  <thead>\n",
       "    <tr style=\"text-align: right;\">\n",
       "      <th></th>\n",
       "      <th>text</th>\n",
       "    </tr>\n",
       "    <tr>\n",
       "      <th>tweet_id</th>\n",
       "      <th></th>\n",
       "    </tr>\n",
       "  </thead>\n",
       "  <tbody>\n",
       "    <tr>\n",
       "      <th>570306133677760513</th>\n",
       "      <td>say</td>\n",
       "    </tr>\n",
       "    <tr>\n",
       "      <th>570301130888122368</th>\n",
       "      <td>plus ve add commercials experience tacky</td>\n",
       "    </tr>\n",
       "    <tr>\n",
       "      <th>570301083672813571</th>\n",
       "      <td>nt today mean need trip</td>\n",
       "    </tr>\n",
       "    <tr>\n",
       "      <th>570301031407624196</th>\n",
       "      <td>aggressive blast obnoxious entertainment guest...</td>\n",
       "    </tr>\n",
       "    <tr>\n",
       "      <th>570300817074462722</th>\n",
       "      <td>big bad thing</td>\n",
       "    </tr>\n",
       "  </tbody>\n",
       "</table>\n",
       "</div>"
      ],
      "text/plain": [
       "                                                                 text\n",
       "tweet_id                                                             \n",
       "570306133677760513                                                say\n",
       "570301130888122368           plus ve add commercials experience tacky\n",
       "570301083672813571                            nt today mean need trip\n",
       "570301031407624196  aggressive blast obnoxious entertainment guest...\n",
       "570300817074462722                                      big bad thing"
      ]
     },
     "execution_count": 37,
     "metadata": {},
     "output_type": "execute_result"
    }
   ],
   "source": [
    "# Preprocessing data before feeding it to ML models\n",
    "processed_punto4 = tweets['text'].apply(preprocess_tweet_punto4)\n",
    "pd.DataFrame(processed_punto4).head()"
   ]
  },
  {
   "cell_type": "code",
   "execution_count": 38,
   "metadata": {},
   "outputs": [],
   "source": [
    "# Separación de variables predictoras (X) y de variable de interés (y)\n",
    "X_punto4 = processed_punto4.values\n",
    "y_punto4 = tweets['airline_sentiment'].map({'negative':-1,'neutral':0,'positive':1}).values"
   ]
  },
  {
   "cell_type": "code",
   "execution_count": 39,
   "metadata": {},
   "outputs": [],
   "source": [
    "# RandomUnderSampler is a fast and easy way to balance the data by randomly \n",
    "X_punto4= X_punto4.reshape(-1, 1)\n",
    "y_punto4= y_punto4.reshape(-1, 1)\n",
    "\n",
    "x4_resampled, y4_resampled = balanced.fit_resample(X_punto4, y_punto4)"
   ]
  },
  {
   "cell_type": "code",
   "execution_count": 40,
   "metadata": {},
   "outputs": [],
   "source": [
    "# Separación de datos en set de entrenamiento y test\n",
    "xtrain4, xtest4, ytrain4, ytest4 = train_test_split(x4_resampled, y4_resampled, test_size=0.2, random_state=42)"
   ]
  },
  {
   "cell_type": "code",
   "execution_count": 41,
   "metadata": {},
   "outputs": [
    {
     "name": "stdout",
     "output_type": "stream",
     "text": [
      "Features Train:  5671\n",
      "Features Test:  1418\n"
     ]
    }
   ],
   "source": [
    "#Tokenization \n",
    "vect_lemas4 = CountVectorizer()\n",
    "vect_lemas4.stop_words_ = {}\n",
    "\n",
    "\n",
    "xtrain4_toke = vect_lemas4.fit_transform(xtrain4.ravel())\n",
    "print('Features Train: ', xtrain4_toke.shape[0])\n",
    "\n",
    "xtest4_toke = vect_lemas4.transform(xtest4.ravel())\n",
    "print('Features Test: ', xtest4_toke.shape[0])"
   ]
  },
  {
   "cell_type": "code",
   "execution_count": 42,
   "metadata": {},
   "outputs": [
    {
     "name": "stdout",
     "output_type": "stream",
     "text": [
      "count    10.000000\n",
      "mean      0.702170\n",
      "std       0.019490\n",
      "min       0.659612\n",
      "25%       0.695460\n",
      "50%       0.701058\n",
      "75%       0.712963\n",
      "max       0.728395\n",
      "dtype: float64\n"
     ]
    }
   ],
   "source": [
    "# Entrenamiento del modelo\n",
    "ModelPunto4 = RandomForestClassifier(n_estimators=100)\n",
    "ModelPunto4.fit(xtrain4_toke, ytrain4)\n",
    "print(pd.Series(cross_val_score(ModelPunto4, xtrain4_toke, ytrain4, cv=10)).describe())"
   ]
  },
  {
   "cell_type": "code",
   "execution_count": 43,
   "metadata": {},
   "outputs": [
    {
     "name": "stdout",
     "output_type": "stream",
     "text": [
      "Accuracy Score for RandomForestClassifier is ::  0.6798307475317349\n",
      "Classification_Report :: \n",
      "\n",
      "               precision    recall  f1-score   support\n",
      "\n",
      "    negative       0.72      0.68      0.70       487\n",
      "     neutral       0.59      0.64      0.61       476\n",
      "    positive       0.74      0.73      0.73       455\n",
      "\n",
      "    accuracy                           0.68      1418\n",
      "   macro avg       0.68      0.68      0.68      1418\n",
      "weighted avg       0.68      0.68      0.68      1418\n",
      "\n"
     ]
    }
   ],
   "source": [
    " # Predicting the values and the Accuracy Score\n",
    "predict_model4 = ModelPunto4.predict(xtest4_toke)\n",
    "print(\"Accuracy Score for RandomForestClassifier is :: \", accuracy_score(ytest4, predict_model4))\n",
    "\n",
    "# Classification Report :\n",
    "target = ['negative','neutral','positive']\n",
    "print(\"Classification_Report :: \\n\\n\", classification_report(ytest4, predict_model4, target_names=target))"
   ]
  },
  {
   "cell_type": "markdown",
   "metadata": {},
   "source": [
    "### Punto 5 - Comparación y análisis de resultados\n",
    "\n",
    "En la celda 5 comparen los resultados obtenidos de los diferentes modelos (random forest) y comenten las ventajas del mejor modelo y las desventajas del modelo con el menor desempeño."
   ]
  },
  {
   "cell_type": "markdown",
   "metadata": {},
   "source": [
    "### Reporte de rendimiento de los modelos"
   ]
  },
  {
   "cell_type": "code",
   "execution_count": 44,
   "metadata": {},
   "outputs": [
    {
     "name": "stdout",
     "output_type": "stream",
     "text": [
      "Classification_Report - Punto1: \n",
      "\n",
      "               precision    recall  f1-score   support\n",
      "\n",
      "    negative       0.75      0.72      0.73       487\n",
      "     neutral       0.61      0.67      0.64       476\n",
      "    positive       0.74      0.70      0.72       455\n",
      "\n",
      "    accuracy                           0.70      1418\n",
      "   macro avg       0.70      0.70      0.70      1418\n",
      "weighted avg       0.70      0.70      0.70      1418\n",
      "\n",
      "Classification_Report - Punto2: \n",
      "\n",
      "               precision    recall  f1-score   support\n",
      "\n",
      "    negative       0.72      0.66      0.69       487\n",
      "     neutral       0.60      0.63      0.62       476\n",
      "    positive       0.71      0.74      0.72       455\n",
      "\n",
      "    accuracy                           0.67      1418\n",
      "   macro avg       0.68      0.68      0.68      1418\n",
      "weighted avg       0.68      0.67      0.67      1418\n",
      "\n",
      "Classification_Report - Punto3: \n",
      "\n",
      "               precision    recall  f1-score   support\n",
      "\n",
      "    negative       0.74      0.70      0.72       487\n",
      "     neutral       0.62      0.72      0.67       476\n",
      "    positive       0.77      0.68      0.72       455\n",
      "\n",
      "    accuracy                           0.70      1418\n",
      "   macro avg       0.71      0.70      0.70      1418\n",
      "weighted avg       0.71      0.70      0.70      1418\n",
      "\n",
      "Classification_Report - Punto4: \n",
      "\n",
      "               precision    recall  f1-score   support\n",
      "\n",
      "    negative       0.72      0.68      0.70       487\n",
      "     neutral       0.59      0.64      0.61       476\n",
      "    positive       0.74      0.73      0.73       455\n",
      "\n",
      "    accuracy                           0.68      1418\n",
      "   macro avg       0.68      0.68      0.68      1418\n",
      "weighted avg       0.68      0.68      0.68      1418\n",
      "\n"
     ]
    }
   ],
   "source": [
    "# Classification Report - PUNTO 1:\n",
    "print(\"Classification_Report - Punto1: \\n\\n\", classification_report(ytest1, predict_model1, target_names=target))\n",
    "\n",
    "# Classification Report - PUNTO 2:\n",
    "print(\"Classification_Report - Punto2: \\n\\n\", classification_report(ytest2, predict_model2, target_names=target))\n",
    "\n",
    "# Classification Report - PUNTO 3:\n",
    "print(\"Classification_Report - Punto3: \\n\\n\", classification_report(ytest3, predict_model3, target_names=target))\n",
    "\n",
    "# Classification Report - PUNTO 4:\n",
    "print(\"Classification_Report - Punto4: \\n\\n\", classification_report(ytest4, predict_model4, target_names=target))\n"
   ]
  },
  {
   "cell_type": "markdown",
   "metadata": {},
   "source": [
    "A partir de los resultados anteriores se puede determinar los siguientes analisis:\n",
    "\n",
    "* Para los puntos del 1-4 se dejo un preprocesamiento general en el cual para todos los puntos se realiza una limpieza de \"line breaaks\", se pasa todo a minuscula, se elimina los números, los urls, los emails, la puntación y caracteres especiales como \"#\" y \"@\". Esto con la finalidad de tener un texto con menor sesgo y mas limpio, ya que tener caracteres o números indeceados va generar un mal rendimiento en el modelo, debido a que no realizan un aporte que genere una diferenciación entre los texto, sino que genera un ruido el cual puede confundir al modelo y causar una mala predicción.\n",
    "\n",
    "* A partir de la grafica de distribución de clases (cuenta de tweets por cada sentimiento), se determino realizar una tecnica de remuestreo -**RandomUnderSampler** para lograr equilibrar los datos y no afectar el rendimiento del modelo, ya que sabemos que cuando hay un desbalance de clases muy grande puede que el modelo no aprenda a distinguir de una clase a otra, si no que siempre prediga la que mayor muestras tiene.\n",
    "\n",
    "* Los mejores rendimientos se dieron en el proceso en donde se realizo el **preprocesamiento preestablecido** combinado con **lematizen el texto con verbos** y el **CountVectorizer**. Cabe resaltar varias cosas, aunque se sigue el proceso establecido por el taller, tambien se puede calibrar parámetros dentro de la función **CountVectorizer** y hiperparametros dentro del modelo de **RandomForestClassifier** por medio de un **pipline** y se recomienda tambien la función de **GridSearchCV**. Como la finalidad de este taller es mirar el rendimiento con el preprocesamiento y los parametros establecidos en cada punto se decidio dejar el proceso de \"Vectorization\" y del modelo (**RandomForestClassifier**) con los parametros de default y mirar con eso el rendimiento de cada preprocesamiento.\n",
    "\n",
    "* Algo a tener en cuenta y a resaltar es que cuando se realizo la limpieza de las stopwords no se vio un aumento en el rendimiento si no mas bien una disminución, esto es debido a que el texto que relaciona cada clase es muy pequeño ya que solo cuenta con 10 a un maximo de 30 palabras y al quitarle esas stopwords a un texto que por ejemplo tenga 5 palabras y de esas 3 son stopwords, lo dejaria sin contexto para poder relacionar o generar un patrón.\n",
    "Es por esto que en casos en donde son tweets o textos muy cortos es preferible hacer un tipo de preprocesamiento como lematizar y remover puntuación o caracteres especiales (texto indeceado) ya que generara un mejor rendimiento en el modelo."
   ]
  },
  {
   "cell_type": "markdown",
   "metadata": {},
   "source": [
    "### Rendimiento Accuracy"
   ]
  },
  {
   "cell_type": "code",
   "execution_count": 45,
   "metadata": {},
   "outputs": [],
   "source": [
    "model1 = accuracy_score(ytest1, predict_model1)\n",
    "model2 = accuracy_score(ytest2, predict_model2)\n",
    "model3 = accuracy_score(ytest3, predict_model3)\n",
    "model4 = accuracy_score(ytest4, predict_model4)"
   ]
  },
  {
   "cell_type": "code",
   "execution_count": 50,
   "metadata": {},
   "outputs": [
    {
     "data": {
      "image/png": "[encoded data removed]",
      "text/plain": [
       "<Figure size 720x360 with 1 Axes>"
      ]
     },
     "metadata": {
      "needs_background": "light"
     },
     "output_type": "display_data"
    }
   ],
   "source": [
    "fig = plt.figure(figsize = (10, 5))\n",
    "\n",
    "list_mse =[model1,model2,model3, model4]\n",
    "list_mse = [round(x,2) for x in list_mse]\n",
    "legens = ['Model-Punto1', 'Model-Punto2', 'Model-Punto3', 'Model-Punto4']\n",
    "plt.bar(legens, list_mse, color ='pink',\n",
    "        width = 0.4)\n",
    "plt.xlabel(\"Metrica de Rendimiento - Accuracy\")\n",
    "plt.title(\"Rendimiento General de los Modelos\")\n",
    "def addlabels(x,y,plotP):\n",
    "    for i in range(len(x)):\n",
    "        plotP.text(i,y[i],y[i])\n",
    "addlabels(legens,list_mse,plt)\n",
    "plt.show()"
   ]
  }
 ],
 "metadata": {
  "kernelspec": {
   "display_name": "Python 3",
   "language": "python",
   "name": "python3"
  },
  "language_info": {
   "codemirror_mode": {
    "name": "ipython",
    "version": 3
   },
   "file_extension": ".py",
   "mimetype": "text/x-python",
   "name": "python",
   "nbconvert_exporter": "python",
   "pygments_lexer": "ipython3",
   "version": "3.8.12"
  }
 },
 "nbformat": 4,
 "nbformat_minor": 2
}
